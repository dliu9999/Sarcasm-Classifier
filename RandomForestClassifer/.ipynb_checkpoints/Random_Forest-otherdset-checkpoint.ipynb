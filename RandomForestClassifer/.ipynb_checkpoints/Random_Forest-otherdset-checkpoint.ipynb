{
 "cells": [
  {
   "cell_type": "code",
   "execution_count": 1,
   "metadata": {},
   "outputs": [],
   "source": [
    "from sklearn.ensemble import RandomForestClassifier\n",
    "import pandas as pd, numpy as np\n",
    "from sklearn.feature_extraction.text import TfidfVectorizer\n",
    "from sklearn import metrics"
   ]
  },
  {
   "cell_type": "code",
   "execution_count": 9,
   "metadata": {},
   "outputs": [
    {
     "name": "stdout",
     "output_type": "stream",
     "text": [
      "Number of rows in train: 949957\n",
      "Number of rows in test: 60815\n",
      "Number of NaNs in comments column:  1086\n",
      "Number of NaNs in comments column:  53\n",
      "Number of rows in train: 948871\n",
      "Number of rows in test: 60762\n",
      "Number of NaNs in comments column: 0\n",
      "Number of NaNs in comments column: 0\n"
     ]
    }
   ],
   "source": [
    "# Read in the data\n",
    "\n",
    "test = pd.read_csv(\"../otherdset/cleaned_testlong.csv\")\n",
    "train = pd.read_csv(\"../otherdset/cleaned_trainlong.csv\", low_memory=False)\n",
    "print('Number of rows in train:', len(train))\n",
    "print('Number of rows in test:', len(test))\n",
    "print('Number of NaNs in comments column: ', sum(pd.isnull(train['Tweet']) == True))\n",
    "print('Number of NaNs in comments column: ', sum(pd.isnull(test['Tweet']) == True))\n",
    "\n",
    "# Remove NaNs\n",
    "test.dropna(subset=['Tweet'], inplace = True)\n",
    "train.dropna(subset=['Tweet'], inplace = True)\n",
    "print('Number of rows in train:', len(train))\n",
    "print('Number of rows in test:', len(test))\n",
    "print('Number of NaNs in comments column:', sum(pd.isnull(train['Tweet']) == True))\n",
    "print('Number of NaNs in comments column:', sum(pd.isnull(test['Tweet']) == True))"
   ]
  },
  {
   "cell_type": "markdown",
   "metadata": {},
   "source": [
    "Preprocessing Data: Using tf-idf"
   ]
  },
  {
   "cell_type": "code",
   "execution_count": 12,
   "metadata": {},
   "outputs": [],
   "source": [
    "# Setting up inputs\n",
    "train_X = train.Tweet\n",
    "train_y = train.iloc[:, 1:2]\n",
    "test_X = test.Tweet\n",
    "test_y = np.array(test.label)"
   ]
  },
  {
   "cell_type": "code",
   "execution_count": 13,
   "metadata": {},
   "outputs": [],
   "source": [
    "# Since we want a vector representation of all words, we need to take both testing and training and tfidf them\n",
    "combined_text = train_X.append(test_X, ignore_index=True)"
   ]
  },
  {
   "cell_type": "code",
   "execution_count": 14,
   "metadata": {},
   "outputs": [],
   "source": [
    "# Initialize the tf-idf matrix from sklearn\n",
    "vectorizer = TfidfVectorizer(strip_accents='unicode',\n",
    "                             analyzer='word',\n",
    "                             lowercase=True, # Convert all uppercase to lowercase\n",
    "                             stop_words='english', # Remove commonly found english words ('it', 'a', 'the') which do not typically contain much signal\n",
    "                             max_df = 0.9) # Only consider words that appear in fewer than max_df percent of all documents          \n",
    "tfidf_matrix = vectorizer.fit(combined_text) # fit tfidf to comments"
   ]
  },
  {
   "cell_type": "code",
   "execution_count": 15,
   "metadata": {},
   "outputs": [],
   "source": [
    "# Transform test and train into a numerical representation of comments\n",
    "train_features_X = tfidf_matrix.transform(train_X)\n",
    "test_features_X = tfidf_matrix.transform(test_X)"
   ]
  },
  {
   "cell_type": "markdown",
   "metadata": {},
   "source": [
    "Fitting RandomForestClassifer"
   ]
  },
  {
   "cell_type": "code",
   "execution_count": 16,
   "metadata": {},
   "outputs": [],
   "source": [
    "# Initialize the model\n",
    "clf = RandomForestClassifier()"
   ]
  },
  {
   "cell_type": "code",
   "execution_count": null,
   "metadata": {},
   "outputs": [],
   "source": [
    "# Fit the net to the training data\n",
    "clf.fit(train_features_X, train_y.values.ravel())"
   ]
  },
  {
   "cell_type": "code",
   "execution_count": null,
   "metadata": {},
   "outputs": [],
   "source": [
    "# Print accuracy score\n",
    "labels = clf.predict(test_features_X)\n",
    "print(\"accuracy score:\", metrics.accuracy_score(test_y, labels))"
   ]
  },
  {
   "cell_type": "code",
   "execution_count": null,
   "metadata": {},
   "outputs": [],
   "source": []
  }
 ],
 "metadata": {
  "kernelspec": {
   "display_name": "Python 3",
   "language": "python",
   "name": "python3"
  },
  "language_info": {
   "codemirror_mode": {
    "name": "ipython",
    "version": 3
   },
   "file_extension": ".py",
   "mimetype": "text/x-python",
   "name": "python",
   "nbconvert_exporter": "python",
   "pygments_lexer": "ipython3",
   "version": "3.6.4"
  }
 },
 "nbformat": 4,
 "nbformat_minor": 2
}
