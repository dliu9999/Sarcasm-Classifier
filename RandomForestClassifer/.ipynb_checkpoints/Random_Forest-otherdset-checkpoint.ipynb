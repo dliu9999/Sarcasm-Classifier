{
 "cells": [
  {
   "cell_type": "code",
   "execution_count": 1,
   "metadata": {},
   "outputs": [],
   "source": [
    "from sklearn.ensemble import RandomForestClassifier\n",
    "import pandas as pd, numpy as np\n",
    "from sklearn.feature_extraction.text import TfidfVectorizer\n",
    "from sklearn import metrics"
   ]
  },
  {
   "cell_type": "code",
   "execution_count": 34,
   "metadata": {},
   "outputs": [
    {
     "name": "stdout",
     "output_type": "stream",
     "text": [
      "Number of rows in train: 950000\n",
      "Number of rows in test: 60826\n",
      "Number of NaNs in comments column:  43\n",
      "Number of NaNs in comments column:  11\n",
      "Number of rows in train: 949957\n",
      "Number of rows in test: 60815\n",
      "Number of NaNs in comments column: 0\n",
      "Number of NaNs in comments column: 0\n"
     ]
    }
   ],
   "source": [
    "# Read in the data\n",
    "\n",
    "test = pd.read_csv(\"../otherdset/data_test_sarcasm.csv\")\n",
    "train = pd.read_csv(\"../otherdset/data_train_sarcasm.csv\", low_memory=False)\n",
    "print('Number of rows in train:', len(train))\n",
    "print('Number of rows in test:', len(test))\n",
    "print('Number of NaNs in comments column: ', sum(pd.isnull(train['comment']) == True))\n",
    "print('Number of NaNs in comments column: ', sum(pd.isnull(test['comment']) == True))\n",
    "\n",
    "# Remove NaNs\n",
    "test.dropna(subset=['comment'], inplace = True)\n",
    "train.dropna(subset=['comment'], inplace = True)\n",
    "print('Number of rows in train:', len(train))\n",
    "print('Number of rows in test:', len(test))\n",
    "print('Number of NaNs in comments column:', sum(pd.isnull(train['comment']) == True))\n",
    "print('Number of NaNs in comments column:', sum(pd.isnull(test['comment']) == True))"
   ]
  },
  {
   "cell_type": "code",
   "execution_count": 36,
   "metadata": {},
   "outputs": [
    {
     "data": {
      "text/html": [
       "<div>\n",
       "<style scoped>\n",
       "    .dataframe tbody tr th:only-of-type {\n",
       "        vertical-align: middle;\n",
       "    }\n",
       "\n",
       "    .dataframe tbody tr th {\n",
       "        vertical-align: top;\n",
       "    }\n",
       "\n",
       "    .dataframe thead th {\n",
       "        text-align: right;\n",
       "    }\n",
       "</style>\n",
       "<table border=\"1\" class=\"dataframe\">\n",
       "  <thead>\n",
       "    <tr style=\"text-align: right;\">\n",
       "      <th></th>\n",
       "      <th>label</th>\n",
       "      <th>comment</th>\n",
       "    </tr>\n",
       "  </thead>\n",
       "  <tbody>\n",
       "    <tr>\n",
       "      <th>0</th>\n",
       "      <td>0</td>\n",
       "      <td>NC and NH.</td>\n",
       "    </tr>\n",
       "    <tr>\n",
       "      <th>1</th>\n",
       "      <td>0</td>\n",
       "      <td>You do know west teams play against west teams...</td>\n",
       "    </tr>\n",
       "    <tr>\n",
       "      <th>2</th>\n",
       "      <td>0</td>\n",
       "      <td>They were underdogs earlier today, but since G...</td>\n",
       "    </tr>\n",
       "    <tr>\n",
       "      <th>3</th>\n",
       "      <td>0</td>\n",
       "      <td>This meme isn't funny none of the \"new york ni...</td>\n",
       "    </tr>\n",
       "    <tr>\n",
       "      <th>4</th>\n",
       "      <td>0</td>\n",
       "      <td>I could use one of those tools.</td>\n",
       "    </tr>\n",
       "  </tbody>\n",
       "</table>\n",
       "</div>"
      ],
      "text/plain": [
       "  label                                            comment\n",
       "0     0                                         NC and NH.\n",
       "1     0  You do know west teams play against west teams...\n",
       "2     0  They were underdogs earlier today, but since G...\n",
       "3     0  This meme isn't funny none of the \"new york ni...\n",
       "4     0                    I could use one of those tools."
      ]
     },
     "execution_count": 36,
     "metadata": {},
     "output_type": "execute_result"
    }
   ],
   "source": [
    "train.head()"
   ]
  },
  {
   "cell_type": "markdown",
   "metadata": {},
   "source": [
    "Preprocessing Data: Using tf-idf"
   ]
  },
  {
   "cell_type": "code",
   "execution_count": 37,
   "metadata": {},
   "outputs": [],
   "source": [
    "# Setting up inputs\n",
    "train_X = train.comment\n",
    "train_y = train.iloc[:, 0:1]\n",
    "test_X = test.comment\n",
    "test_y = np.array(test.label)"
   ]
  },
  {
   "cell_type": "code",
   "execution_count": 38,
   "metadata": {},
   "outputs": [],
   "source": [
    "# Since we want a vector representation of all words, we need to take both testing and training and tfidf them\n",
    "combined_text = train_X.append(test_X, ignore_index=True)"
   ]
  },
  {
   "cell_type": "code",
   "execution_count": 39,
   "metadata": {},
   "outputs": [],
   "source": [
    "# Initialize the tf-idf matrix from sklearn\n",
    "vectorizer = TfidfVectorizer(strip_accents='unicode',\n",
    "                             analyzer='word',\n",
    "                             lowercase=True, # Convert all uppercase to lowercase\n",
    "                             stop_words='english', # Remove commonly found english words ('it', 'a', 'the') which do not typically contain much signal\n",
    "                             max_df = 0.9) # Only consider words that appear in fewer than max_df percent of all documents          \n",
    "tfidf_matrix = vectorizer.fit(combined_text) # fit tfidf to comments"
   ]
  },
  {
   "cell_type": "code",
   "execution_count": 40,
   "metadata": {},
   "outputs": [],
   "source": [
    "# Transform test and train into a numerical representation of comments\n",
    "train_features_X = tfidf_matrix.transform(train_X)\n",
    "test_features_X = tfidf_matrix.transform(test_X)"
   ]
  },
  {
   "cell_type": "markdown",
   "metadata": {},
   "source": [
    "Fitting RandomForestClassifer"
   ]
  },
  {
   "cell_type": "code",
   "execution_count": 41,
   "metadata": {},
   "outputs": [],
   "source": [
    "# Initialize the model\n",
    "clf = RandomForestClassifier()"
   ]
  },
  {
   "cell_type": "code",
   "execution_count": null,
   "metadata": {},
   "outputs": [],
   "source": [
    "# Fit the net to the training data\n",
    "clf.fit(train_features_X, train_y.values.ravel())"
   ]
  },
  {
   "cell_type": "code",
   "execution_count": 82,
   "metadata": {},
   "outputs": [
    {
     "name": "stdout",
     "output_type": "stream",
     "text": [
      "accuracy: 0.5715\n"
     ]
    }
   ],
   "source": [
    "# Print accuracy score\n",
    "labels = clf.predict(test_features_X)\n",
    "print(\"accuracy score:\", metrics.accuracy_score(test_y, labels))"
   ]
  },
  {
   "cell_type": "code",
   "execution_count": null,
   "metadata": {},
   "outputs": [],
   "source": []
  }
 ],
 "metadata": {
  "kernelspec": {
   "display_name": "Python 3",
   "language": "python",
   "name": "python3"
  },
  "language_info": {
   "codemirror_mode": {
    "name": "ipython",
    "version": 3
   },
   "file_extension": ".py",
   "mimetype": "text/x-python",
   "name": "python",
   "nbconvert_exporter": "python",
   "pygments_lexer": "ipython3",
   "version": "3.6.4"
  }
 },
 "nbformat": 4,
 "nbformat_minor": 2
}
