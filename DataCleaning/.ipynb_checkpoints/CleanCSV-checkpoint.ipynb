{
 "cells": [
  {
   "cell_type": "code",
   "execution_count": 1,
   "metadata": {},
   "outputs": [],
   "source": [
    "import pandas as pd, numpy as np\n",
    "import nltk\n",
    "from nltk.corpus import stopwords\n",
    "from textblob import TextBlob\n",
    "from textblob import Word"
   ]
  },
  {
   "cell_type": "code",
   "execution_count": 2,
   "metadata": {},
   "outputs": [],
   "source": [
    "test = pd.read_csv(\"../maindatasets/Test.csv\")\n",
    "train = pd.read_csv(\"../maindatasets/Train.csv\")"
   ]
  },
  {
   "cell_type": "code",
   "execution_count": 3,
   "metadata": {},
   "outputs": [],
   "source": [
    "stop = stopwords.words('english')\n",
    "def clean_dataset(file): \n",
    "    file[\"Tweet\"] = file[\"Tweet\"].apply(lambda x: \" \".join(x.lower() for x in x.split())) \n",
    "    file[\"Tweet\"] = file[\"Tweet\"].str.replace('[^\\w\\s]','')\n",
    "    file['Tweet'] = file['Tweet'].apply(lambda x: \" \".join(x for x in x.split() if x not in stop))\n",
    "    freq = pd.Series(' '.join(file['Tweet']).split()).value_counts()[:10]\n",
    "    rare = pd.Series(' '.join(file['Tweet']).split()).value_counts()[-10:]\n",
    "    freq = list(freq.index)\n",
    "    rare = list(rare.index)\n",
    "    file['Tweet'] = file['Tweet'].apply(lambda x: \" \".join(x for x in x.split() if x not in freq))\n",
    "    file['Tweet'] = file['Tweet'].apply(lambda x: \" \".join(x for x in x.split() if x not in rare))\n",
    "    file['Tweet'][:10].apply(lambda x: str(TextBlob(x).correct()))\n",
    "    file['Tweet'] = file['Tweet'].apply(lambda x: \" \".join([Word(word).lemmatize() for word in x.split()]))\n",
    "clean_dataset(train)\n",
    "clean_dataset(test)"
   ]
  },
  {
   "cell_type": "code",
   "execution_count": 4,
   "metadata": {},
   "outputs": [],
   "source": [
    "train.to_csv('../maindatasets/cleaned_train.csv', encoding='utf-8')\n",
    "test.to_csv('../maindatasets/cleaned_test.csv', encoding='utf-8')"
   ]
  },
  {
   "cell_type": "code",
   "execution_count": null,
   "metadata": {},
   "outputs": [],
   "source": []
  }
 ],
 "metadata": {
  "kernelspec": {
   "display_name": "Python 3",
   "language": "python",
   "name": "python3"
  },
  "language_info": {
   "codemirror_mode": {
    "name": "ipython",
    "version": 3
   },
   "file_extension": ".py",
   "mimetype": "text/x-python",
   "name": "python",
   "nbconvert_exporter": "python",
   "pygments_lexer": "ipython3",
   "version": "3.6.4"
  }
 },
 "nbformat": 4,
 "nbformat_minor": 2
}
